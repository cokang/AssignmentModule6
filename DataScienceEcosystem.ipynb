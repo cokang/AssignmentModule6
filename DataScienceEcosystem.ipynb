{
 "cells": [
  {
   "cell_type": "markdown",
   "id": "4f6cac88-db95-45e2-93fa-d5d04ebd45fa",
   "metadata": {},
   "source": [
    "# Data Science Tools and Ecosystem"
   ]
  },
  {
   "cell_type": "markdown",
   "id": "35e0a0de-2ee6-4bad-a60e-ac4f9856dfd1",
   "metadata": {},
   "source": [
    "In this notebook, Data Science Tools and Ecosystem are summarized."
   ]
  },
  {
   "cell_type": "markdown",
   "id": "81d91b40-f4dd-42de-82ed-bcc745fc0e70",
   "metadata": {},
   "source": [
    "Some of the popular languages that Data Scientists use are:\n",
    "1. Python\n",
    "2. R\n",
    "3. Julia\n",
    "4. Java \n",
    "5. C/C++"
   ]
  },
  {
   "cell_type": "markdown",
   "id": "aa738d30-4c2d-4f2f-a079-4ba0071a2756",
   "metadata": {},
   "source": [
    "Some of the commonly used libraries used by Data Scientists include:\n",
    "1. TensorFlow\n",
    "2. NumPy\n",
    "3. SciPy \n",
    "4. Pandas\n",
    "5. Matplotlib \n",
    "6. Keras\n",
    "7. SciKit-Learn\n",
    "8. PyTorch\n",
    "0. Scrapy\n"
   ]
  },
  {
   "cell_type": "markdown",
   "id": "d7ddf02e-bebd-4953-b2ec-f7ac3e72b2b1",
   "metadata": {
    "tags": []
   },
   "source": [
    "| Data Science Tools |\n",
    "| :----------------- |\n",
    "| Jupyter            |\n",
    "| Apache Spark       | \n",
    "| TensorFlow         | \n",
    "| SAS                |"
   ]
  },
  {
   "cell_type": "markdown",
   "id": "3cf45d01-11b1-434e-9403-040961f4da30",
   "metadata": {},
   "source": [
    "### Below are a few examples of evaluating arithmetic expressions in Python\n",
    "$ 8 + 8 = 2 * 8 $"
   ]
  },
  {
   "cell_type": "code",
   "execution_count": 3,
   "id": "41e5e2a9-ad7b-4a90-a16d-e9b19de0ff3f",
   "metadata": {
    "tags": []
   },
   "outputs": [
    {
     "data": {
      "text/plain": [
       "17"
      ]
     },
     "execution_count": 3,
     "metadata": {},
     "output_type": "execute_result"
    }
   ],
   "source": [
    "#This a simple arithmetic expression to mutiply then add integers\n",
    "(3*4)+5"
   ]
  },
  {
   "cell_type": "code",
   "execution_count": 4,
   "id": "0bcae06c-04d9-4a6d-9e9b-199a7357ef76",
   "metadata": {
    "tags": []
   },
   "outputs": [
    {
     "data": {
      "text/plain": [
       "3.3333333333333335"
      ]
     },
     "execution_count": 4,
     "metadata": {},
     "output_type": "execute_result"
    }
   ],
   "source": [
    "#his will convert 200 minutes to hours by diving by 60\n",
    "200/60"
   ]
  },
  {
   "cell_type": "markdown",
   "id": "0380214b-6acb-4bf0-a344-f6dd6a765070",
   "metadata": {},
   "source": [
    "Objectives:\n",
    "- Create a Jupyter Notebook\n",
    "- Insert code and markdown cells\n",
    "- Share your notebook through GitHub"
   ]
  },
  {
   "cell_type": "markdown",
   "id": "0fbfb607-821b-4f0a-b603-38798430dbff",
   "metadata": {
    "tags": []
   },
   "source": [
    "## Author\n",
    "\n",
    "Mohammad Nezam bin Ma'at"
   ]
  },
  {
   "cell_type": "code",
   "execution_count": null,
   "id": "8cee4aaf-d3a0-4ffb-950d-2100af073fb5",
   "metadata": {},
   "outputs": [],
   "source": []
  }
 ],
 "metadata": {
  "kernelspec": {
   "display_name": "Python 3 (ipykernel)",
   "language": "python",
   "name": "python3"
  },
  "language_info": {
   "codemirror_mode": {
    "name": "ipython",
    "version": 3
   },
   "file_extension": ".py",
   "mimetype": "text/x-python",
   "name": "python",
   "nbconvert_exporter": "python",
   "pygments_lexer": "ipython3",
   "version": "3.11.4"
  }
 },
 "nbformat": 4,
 "nbformat_minor": 5
}
